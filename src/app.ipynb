{
 "cells": [
  {
   "cell_type": "code",
   "execution_count": 3,
   "metadata": {},
   "outputs": [
    {
     "name": "stdout",
     "output_type": "stream",
     "text": [
      "Collecting drawnow\n",
      "  Downloading drawnow-0.72.5-py3-none-any.whl (4.3 kB)\n",
      "Requirement already satisfied: matplotlib>=1.5 in /home/spritan/miniconda3/envs/geonew/lib/python3.10/site-packages (from drawnow) (3.5.3)\n",
      "Requirement already satisfied: pillow>=6.2.0 in /home/spritan/miniconda3/envs/geonew/lib/python3.10/site-packages (from matplotlib>=1.5->drawnow) (9.2.0)\n",
      "Requirement already satisfied: fonttools>=4.22.0 in /home/spritan/miniconda3/envs/geonew/lib/python3.10/site-packages (from matplotlib>=1.5->drawnow) (4.37.1)\n",
      "Requirement already satisfied: numpy>=1.17 in /home/spritan/miniconda3/envs/geonew/lib/python3.10/site-packages (from matplotlib>=1.5->drawnow) (1.23.2)\n",
      "Requirement already satisfied: kiwisolver>=1.0.1 in /home/spritan/miniconda3/envs/geonew/lib/python3.10/site-packages (from matplotlib>=1.5->drawnow) (1.4.4)\n",
      "Requirement already satisfied: cycler>=0.10 in /home/spritan/miniconda3/envs/geonew/lib/python3.10/site-packages (from matplotlib>=1.5->drawnow) (0.11.0)\n",
      "Requirement already satisfied: python-dateutil>=2.7 in /home/spritan/miniconda3/envs/geonew/lib/python3.10/site-packages (from matplotlib>=1.5->drawnow) (2.8.2)\n",
      "Requirement already satisfied: pyparsing>=2.2.1 in /home/spritan/miniconda3/envs/geonew/lib/python3.10/site-packages (from matplotlib>=1.5->drawnow) (3.0.9)\n",
      "Requirement already satisfied: packaging>=20.0 in /home/spritan/miniconda3/envs/geonew/lib/python3.10/site-packages (from matplotlib>=1.5->drawnow) (21.3)\n",
      "Requirement already satisfied: six>=1.5 in /home/spritan/miniconda3/envs/geonew/lib/python3.10/site-packages (from python-dateutil>=2.7->matplotlib>=1.5->drawnow) (1.16.0)\n",
      "Installing collected packages: drawnow\n",
      "Successfully installed drawnow-0.72.5\n"
     ]
    }
   ],
   "source": [
    "!pip install drawnow"
   ]
  },
  {
   "cell_type": "code",
   "execution_count": 4,
   "metadata": {},
   "outputs": [],
   "source": [
    "import serial\n",
    "import matplotlib.pyplot as plt\n",
    "import numpy as np\n",
    "from drawnow import *"
   ]
  },
  {
   "cell_type": "code",
   "execution_count": 5,
   "metadata": {},
   "outputs": [],
   "source": [
    "data = []\n",
    "\n",
    "def plotData():\n",
    "    plt.title('Real-time data plot')\n",
    "    plt.grid(True)\n",
    "    plt.ylabel('Analog values')\n",
    "    plt.plot(data, '-ro')"
   ]
  },
  {
   "cell_type": "code",
   "execution_count": 7,
   "metadata": {},
   "outputs": [
    {
     "ename": "SerialException",
     "evalue": "[Errno 13] could not open port /dev/ttyACM0: [Errno 13] Permission denied: '/dev/ttyACM0'",
     "output_type": "error",
     "traceback": [
      "\u001b[0;31m---------------------------------------------------------------------------\u001b[0m",
      "\u001b[0;31mPermissionError\u001b[0m                           Traceback (most recent call last)",
      "File \u001b[0;32m~/miniconda3/envs/geonew/lib/python3.10/site-packages/serial/serialposix.py:322\u001b[0m, in \u001b[0;36mSerial.open\u001b[0;34m(self)\u001b[0m\n\u001b[1;32m    321\u001b[0m \u001b[39mtry\u001b[39;00m:\n\u001b[0;32m--> 322\u001b[0m     \u001b[39mself\u001b[39m\u001b[39m.\u001b[39mfd \u001b[39m=\u001b[39m os\u001b[39m.\u001b[39;49mopen(\u001b[39mself\u001b[39;49m\u001b[39m.\u001b[39;49mportstr, os\u001b[39m.\u001b[39;49mO_RDWR \u001b[39m|\u001b[39;49m os\u001b[39m.\u001b[39;49mO_NOCTTY \u001b[39m|\u001b[39;49m os\u001b[39m.\u001b[39;49mO_NONBLOCK)\n\u001b[1;32m    323\u001b[0m \u001b[39mexcept\u001b[39;00m \u001b[39mOSError\u001b[39;00m \u001b[39mas\u001b[39;00m msg:\n",
      "\u001b[0;31mPermissionError\u001b[0m: [Errno 13] Permission denied: '/dev/ttyACM0'",
      "\nDuring handling of the above exception, another exception occurred:\n",
      "\u001b[0;31mSerialException\u001b[0m                           Traceback (most recent call last)",
      "\u001b[1;32m/home/spritan/MQ-series_Cross-sensitity-mitigation/src/app.ipynb Cell 4\u001b[0m in \u001b[0;36m<cell line: 1>\u001b[0;34m()\u001b[0m\n\u001b[0;32m----> <a href='vscode-notebook-cell:/home/spritan/MQ-series_Cross-sensitity-mitigation/src/app.ipynb#X11sZmlsZQ%3D%3D?line=0'>1</a>\u001b[0m arduinoData \u001b[39m=\u001b[39m serial\u001b[39m.\u001b[39;49mSerial(\u001b[39m'\u001b[39;49m\u001b[39m/dev/ttyACM0\u001b[39;49m\u001b[39m'\u001b[39;49m, \u001b[39m9600\u001b[39;49m)\n\u001b[1;32m      <a href='vscode-notebook-cell:/home/spritan/MQ-series_Cross-sensitity-mitigation/src/app.ipynb#X11sZmlsZQ%3D%3D?line=2'>3</a>\u001b[0m \u001b[39mwhile\u001b[39;00m \u001b[39mTrue\u001b[39;00m:\n\u001b[1;32m      <a href='vscode-notebook-cell:/home/spritan/MQ-series_Cross-sensitity-mitigation/src/app.ipynb#X11sZmlsZQ%3D%3D?line=3'>4</a>\u001b[0m     \u001b[39mwhile\u001b[39;00m (arduinoData\u001b[39m.\u001b[39minWaiting()\u001b[39m==\u001b[39m\u001b[39m0\u001b[39m):\n",
      "File \u001b[0;32m~/miniconda3/envs/geonew/lib/python3.10/site-packages/serial/serialutil.py:244\u001b[0m, in \u001b[0;36mSerialBase.__init__\u001b[0;34m(self, port, baudrate, bytesize, parity, stopbits, timeout, xonxoff, rtscts, write_timeout, dsrdtr, inter_byte_timeout, exclusive, **kwargs)\u001b[0m\n\u001b[1;32m    241\u001b[0m     \u001b[39mraise\u001b[39;00m \u001b[39mValueError\u001b[39;00m(\u001b[39m'\u001b[39m\u001b[39munexpected keyword arguments: \u001b[39m\u001b[39m{!r}\u001b[39;00m\u001b[39m'\u001b[39m\u001b[39m.\u001b[39mformat(kwargs))\n\u001b[1;32m    243\u001b[0m \u001b[39mif\u001b[39;00m port \u001b[39mis\u001b[39;00m \u001b[39mnot\u001b[39;00m \u001b[39mNone\u001b[39;00m:\n\u001b[0;32m--> 244\u001b[0m     \u001b[39mself\u001b[39;49m\u001b[39m.\u001b[39;49mopen()\n",
      "File \u001b[0;32m~/miniconda3/envs/geonew/lib/python3.10/site-packages/serial/serialposix.py:325\u001b[0m, in \u001b[0;36mSerial.open\u001b[0;34m(self)\u001b[0m\n\u001b[1;32m    323\u001b[0m \u001b[39mexcept\u001b[39;00m \u001b[39mOSError\u001b[39;00m \u001b[39mas\u001b[39;00m msg:\n\u001b[1;32m    324\u001b[0m     \u001b[39mself\u001b[39m\u001b[39m.\u001b[39mfd \u001b[39m=\u001b[39m \u001b[39mNone\u001b[39;00m\n\u001b[0;32m--> 325\u001b[0m     \u001b[39mraise\u001b[39;00m SerialException(msg\u001b[39m.\u001b[39merrno, \u001b[39m\"\u001b[39m\u001b[39mcould not open port \u001b[39m\u001b[39m{}\u001b[39;00m\u001b[39m: \u001b[39m\u001b[39m{}\u001b[39;00m\u001b[39m\"\u001b[39m\u001b[39m.\u001b[39mformat(\u001b[39mself\u001b[39m\u001b[39m.\u001b[39m_port, msg))\n\u001b[1;32m    326\u001b[0m \u001b[39m#~ fcntl.fcntl(self.fd, fcntl.F_SETFL, 0)  # set blocking\u001b[39;00m\n\u001b[1;32m    328\u001b[0m \u001b[39mself\u001b[39m\u001b[39m.\u001b[39mpipe_abort_read_r, \u001b[39mself\u001b[39m\u001b[39m.\u001b[39mpipe_abort_read_w \u001b[39m=\u001b[39m \u001b[39mNone\u001b[39;00m, \u001b[39mNone\u001b[39;00m\n",
      "\u001b[0;31mSerialException\u001b[0m: [Errno 13] could not open port /dev/ttyACM0: [Errno 13] Permission denied: '/dev/ttyACM0'"
     ]
    }
   ],
   "source": [
    "arduinoData = serial.Serial('/dev/ttyACM0', 9600)\n",
    "\n",
    "while True:\n",
    "    while (arduinoData.inWaiting()==0):\n",
    "        pass\n",
    "    arduinoString = arduinoData.readline()\n",
    "    data.append(float(arduinoString.decode('utf-8').rstrip()))\n",
    "    drawnow(plotData)"
   ]
  },
  {
   "attachments": {},
   "cell_type": "markdown",
   "metadata": {},
   "source": [
    "### MQ 4|"
   ]
  },
  {
   "attachments": {},
   "cell_type": "markdown",
   "metadata": {},
   "source": [
    "Load resistance = 20kOmh"
   ]
  },
  {
   "cell_type": "code",
   "execution_count": null,
   "metadata": {},
   "outputs": [],
   "source": []
  },
  {
   "attachments": {},
   "cell_type": "markdown",
   "metadata": {},
   "source": [
    "### MQ 7"
   ]
  },
  {
   "cell_type": "code",
   "execution_count": null,
   "metadata": {},
   "outputs": [],
   "source": []
  }
 ],
 "metadata": {
  "kernelspec": {
   "display_name": "geonew",
   "language": "python",
   "name": "python3"
  },
  "language_info": {
   "codemirror_mode": {
    "name": "ipython",
    "version": 3
   },
   "file_extension": ".py",
   "mimetype": "text/x-python",
   "name": "python",
   "nbconvert_exporter": "python",
   "pygments_lexer": "ipython3",
   "version": "3.10.6"
  },
  "orig_nbformat": 4
 },
 "nbformat": 4,
 "nbformat_minor": 2
}
